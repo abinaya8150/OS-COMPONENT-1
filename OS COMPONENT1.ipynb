{
 "cells": [
  {
   "cell_type": "markdown",
   "id": "bfefda26",
   "metadata": {},
   "source": [
    "# Define the sets\n",
    "\n",
    "#A = {1, 2, 3, 4, 5} B = {4, 5, 6, 7, 8}\n",
    "#Union\n",
    "\n",
    "#union_set = A.union(B) print(\"Union of A and B:\", union_set)\n",
    "#Intersection\n",
    "\n",
    "#intersection_set = A.intersection(B) print(\"Intersection of A and B:\", intersection_set)\n",
    "#Difference (A - B)\n",
    "\n",
    "#difference_set_A_B = A.difference(B) print(\"Difference of A and B:\", difference_set_A_B)\n",
    "#Difference (B - A)\n",
    "\n",
    "#difference_set_B_A = B.difference(A) print(\"Difference of B and A:\", difference_set_B_A)\n",
    "#Symmetric Difference\n",
    "\n",
    "#symmetric_difference_set = A.symmetric_difference(B) print(\"Symmetric Difference of A and B:\", symmetric_difference_set)\n"
   ]
  },
  {
   "cell_type": "code",
   "execution_count": 2,
   "id": "a654fb39",
   "metadata": {},
   "outputs": [
    {
     "name": "stdout",
     "output_type": "stream",
     "text": [
      "Union of A and B: {1, 2, 3, 4, 5, 6, 7, 8}\n",
      "Intersection of A and B: {4, 5}\n",
      "Difference of A and B: {1, 2, 3}\n",
      "Difference of B and A: {8, 6, 7}\n",
      "Symmetric Difference of A and B: {1, 2, 3, 6, 7, 8}\n"
     ]
    }
   ],
   "source": [
    "A = {1, 2, 3, 4, 5}\n",
    "B = {4, 5, 6, 7, 8}\n",
    "\n",
    "union_set = A.union(B)\n",
    "print(\"Union of A and B:\", union_set)\n",
    "\n",
    "intersection_set = A.intersection(B)\n",
    "print(\"Intersection of A and B:\", intersection_set)\n",
    "\n",
    "\n",
    "difference_set_A_B = A.difference(B)\n",
    "print(\"Difference of A and B:\", difference_set_A_B)\n",
    "\n",
    "\n",
    "difference_set_B_A = B.difference(A)\n",
    "print(\"Difference of B and A:\", difference_set_B_A)\n",
    "\n",
    "\n",
    "symmetric_difference_set = A.symmetric_difference(B)\n",
    "print(\"Symmetric Difference of A and B:\", symmetric_difference_set)\n"
   ]
  },
  {
   "cell_type": "code",
   "execution_count": 3,
   "id": "d5faba35",
   "metadata": {},
   "outputs": [
    {
     "name": "stdout",
     "output_type": "stream",
     "text": [
      "Union: {(2, 4), (5, 6), (7, 8), (1, 3), (3, 5)}\n",
      "Intersection: {(2, 4)}\n",
      "Maximum value: (7, 8)\n",
      "Minimum value: (1, 3)\n"
     ]
    }
   ],
   "source": [
    "# Define sets of tuples\n",
    "set1 = {(1, 3), (2, 4), (5, 6)}\n",
    "set2 = {(2, 4), (3, 5), (7, 8)}\n",
    "\n",
    "# Union of sets\n",
    "union_set = set1.union(set2)\n",
    "print(\"Union:\", union_set)\n",
    "\n",
    "# Intersection of sets\n",
    "intersection_set = set1.intersection(set2)\n",
    "print(\"Intersection:\", intersection_set)\n",
    "\n",
    "# Finding maximum and minimum values\n",
    "max_value = max(set1.union(set2), key=lambda x: x[1])\n",
    "min_value = min(set1.union(set2), key=lambda x: x[0])\n",
    "print(\"Maximum value:\", max_value)\n",
    "print(\"Minimum value:\", min_value)\n"
   ]
  },
  {
   "cell_type": "code",
   "execution_count": null,
   "id": "93912b03",
   "metadata": {},
   "outputs": [],
   "source": []
  }
 ],
 "metadata": {
  "kernelspec": {
   "display_name": "Python 3 (ipykernel)",
   "language": "python",
   "name": "python3"
  },
  "language_info": {
   "codemirror_mode": {
    "name": "ipython",
    "version": 3
   },
   "file_extension": ".py",
   "mimetype": "text/x-python",
   "name": "python",
   "nbconvert_exporter": "python",
   "pygments_lexer": "ipython3",
   "version": "3.11.5"
  }
 },
 "nbformat": 4,
 "nbformat_minor": 5
}
